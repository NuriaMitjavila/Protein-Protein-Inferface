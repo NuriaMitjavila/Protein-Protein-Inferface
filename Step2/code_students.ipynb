{
 "cells": [
  {
   "cell_type": "code",
   "execution_count": 1,
   "id": "27682d16",
   "metadata": {},
   "outputs": [],
   "source": [
    "import argparse\n",
    "import sys\n",
    "import os\n",
    "import math\n",
    "\n",
    "from Bio.PDB.PDBParser import PDBParser\n",
    "from Bio.PDB.NACCESS import NACCESS_atomic\n",
    "from Bio.PDB.NeighborSearch import NeighborSearch\n",
    "from Bio.PDB.PDBIO import PDBIO, Select"
   ]
  },
  {
   "cell_type": "markdown",
   "id": "96aab34f",
   "metadata": {},
   "source": [
    "This are functions that you will need to import the parameters for VanderWaals or the residue library:"
   ]
  },
  {
   "cell_type": "code",
   "execution_count": 3,
   "id": "512fd95f",
   "metadata": {},
   "outputs": [],
   "source": [
    "class ResiduesDataLib():\n",
    "    def __init__(self, fname):\n",
    "        self.residue_data = {}\n",
    "        try:\n",
    "            fh = open(fname, \"r\")\n",
    "        except OSError:\n",
    "            print(\"#ERROR while loading library file (\", fname, \")\")\n",
    "            sys.exit(2)\n",
    "        for line in fh:\n",
    "            if line[0] == '#':\n",
    "                continue\n",
    "            data = line.split()\n",
    "            r = Residue(data)\n",
    "            self.residue_data[r.id] = r\n",
    "        self.nres = len(self.residue_data)\n",
    "\n",
    "    def get_params(self, resid, atid):\n",
    "        atom_id = resid + ':' + atid\n",
    "        if atom_id in self.residue_data:\n",
    "            return self.residue_data[atom_id]\n",
    "        else:\n",
    "            print(\"WARNING: atom not found in library (\", atom_id, ')')\n",
    "            return None\n",
    "\n",
    "class Residue():\n",
    "    def __init__(self,data):\n",
    "        self.id     = data[0]+':'+data[1]\n",
    "        self.at_type = data[2]\n",
    "        self.charge  = float(data[3])\n",
    "        \n",
    "class AtomType():\n",
    "    def __init__(self, data):\n",
    "        self.id   = data[0]\n",
    "        self.eps  = float(data[1])\n",
    "        self.sig  = float(data[2])\n",
    "        self.mass = float(data[3])\n",
    "        self.fsrf = float(data[4])\n",
    "        self.rvdw = self.sig * 0.5612\n",
    "        \n",
    "class VdwParamset(): #extracted from GELPI's github\n",
    "    #parameters for the VdW\n",
    "    def __init__ (self, file_name):\n",
    "        self.at_types = {}\n",
    "        try:\n",
    "            fh = open(file_name, \"r\")\n",
    "        except OSError:\n",
    "            print (\"#ERROR while loading parameter file (\", file_name, \")\")\n",
    "            sys.exit(2)\n",
    "        for line in fh:\n",
    "            if line[0] == '#':\n",
    "                continue\n",
    "            data = line.split()\n",
    "            self.at_types[data[0]] = AtomType(data)\n",
    "        self.ntypes = len(self.at_types)\n",
    "        fh.close()"
   ]
  },
  {
   "cell_type": "markdown",
   "id": "8661d310",
   "metadata": {},
   "source": [
    "We need to load the residue library. "
   ]
  },
  {
   "cell_type": "code",
   "execution_count": null,
   "id": "35247d02",
   "metadata": {},
   "outputs": [],
   "source": [
    "# loading residue library from data/aaLib.lib\n",
    "residue_library = ResiduesDataLib('/home/irene/Desktop/data/aaLib.lib')"
   ]
  },
  {
   "cell_type": "markdown",
   "id": "5cd3e936",
   "metadata": {},
   "source": [
    "We also need to load the Vdw parameters."
   ]
  },
  {
   "cell_type": "code",
   "execution_count": null,
   "id": "f74ac0c8",
   "metadata": {},
   "outputs": [],
   "source": [
    "# loading VdW parameters\n",
    "ff_params = VdwParamset('/home/irene/Desktop/data/vdwprm')"
   ]
  },
  {
   "cell_type": "markdown",
   "id": "afa6172a",
   "metadata": {},
   "source": [
    "Now, let's load the strucutre of the PDB"
   ]
  },
  {
   "cell_type": "code",
   "execution_count": null,
   "id": "b23202ef",
   "metadata": {},
   "outputs": [],
   "source": [
    "# set the pdb_path and load the structure\n",
    "pdb_path = \"/home/irene/Desktop/6m0j_fixed.pdb\"\n",
    "# Setting the Bio.PDB.Parser object\n",
    "parser = PDBParser(PERMISSIVE=1)\n",
    "# Loading structure\n",
    "st = parser.get_structure('st', pdb_path)"
   ]
  }
 ],
 "metadata": {
  "kernelspec": {
   "display_name": "Python 3 (ipykernel)",
   "language": "python",
   "name": "python3"
  },
  "language_info": {
   "codemirror_mode": {
    "name": "ipython",
    "version": 3
   },
   "file_extension": ".py",
   "mimetype": "text/x-python",
   "name": "python",
   "nbconvert_exporter": "python",
   "pygments_lexer": "ipython3",
   "version": "3.9.12"
  }
 },
 "nbformat": 4,
 "nbformat_minor": 5
}
